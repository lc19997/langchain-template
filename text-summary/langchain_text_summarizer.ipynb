{
  "nbformat": 4,
  "nbformat_minor": 0,
  "metadata": {
    "colab": {
      "provenance": []
    },
    "kernelspec": {
      "name": "python3",
      "display_name": "Python 3"
    },
    "language_info": {
      "name": "python"
    }
  },
  "cells": [
    {
      "cell_type": "markdown",
      "source": [
        "## **LangChain Text Summarizer**"
      ],
      "metadata": {
        "id": "C30t7RVa0huh"
      }
    },
    {
      "cell_type": "markdown",
      "source": [
        "Install the necessary packages"
      ],
      "metadata": {
        "id": "kzmrzSEA1bmt"
      }
    },
    {
      "cell_type": "code",
      "execution_count": null,
      "metadata": {
        "id": "Y4j13SNO0MF1"
      },
      "outputs": [],
      "source": [
        "!pip install langchain\n",
        "!pip install openai\n",
        "!pip install streamlit\n",
        "!pip install tiktoken"
      ]
    },
    {
      "cell_type": "markdown",
      "source": [
        "Create a Streamlit app and save to a local file"
      ],
      "metadata": {
        "id": "l3Dj8b_D1ZNy"
      }
    },
    {
      "cell_type": "code",
      "source": [
        "%%writefile app.py\n",
        "import os, streamlit as st\n",
        "from langchain.text_splitter import CharacterTextSplitter\n",
        "from langchain.docstore.document import Document\n",
        "from langchain.llms.openai import OpenAI\n",
        "from langchain.chains.summarize import load_summarize_chain\n",
        "\n",
        "# Streamlit app\n",
        "st.title('LangChain Text Summarizer')\n",
        "\n",
        "# Get OpenAI API key and source text input\n",
        "openai_api_key = st.text_input(\"OpenAI API Key\", type=\"password\")\n",
        "source_text = st.text_area(\"Source Text\", height=200)\n",
        "\n",
        "# Check if the 'Summarize' button is clicked\n",
        "if st.button(\"Summarize\"):\n",
        "    # Validate inputs\n",
        "    if not openai_api_key.strip() or not source_text.strip():\n",
        "        st.write(f\"Please complete the missing fields.\")\n",
        "    else:\n",
        "        try:\n",
        "            # Split the source text\n",
        "            text_splitter = CharacterTextSplitter()\n",
        "            texts = text_splitter.split_text(source_text)\n",
        "\n",
        "            # Create Document objects for the texts\n",
        "            docs = [Document(page_content=t) for t in texts[:3]]\n",
        "\n",
        "            # Initialize the OpenAI module, load and run the summarize chain\n",
        "            llm = OpenAI(temperature=0, openai_api_key=openai_api_key)\n",
        "            chain = load_summarize_chain(llm, chain_type=\"map_reduce\")\n",
        "            summary = chain.run(docs)\n",
        "\n",
        "            # Display summary\n",
        "            st.write(summary)\n",
        "        except Exception as e:\n",
        "            st.write(f\"An error occurred: {e}\")"
      ],
      "metadata": {
        "id": "deojXC0J03fQ"
      },
      "execution_count": null,
      "outputs": []
    },
    {
      "cell_type": "markdown",
      "source": [
        "Install localtunnel to serve the Streamlit app"
      ],
      "metadata": {
        "id": "52UihvA71Wrf"
      }
    },
    {
      "cell_type": "code",
      "source": [
        "!npm install localtunnel"
      ],
      "metadata": {
        "id": "6ECSPDUi1CjD"
      },
      "execution_count": null,
      "outputs": []
    },
    {
      "cell_type": "markdown",
      "source": [
        "Run the Streamlit app in the background"
      ],
      "metadata": {
        "id": "xlh9g9YY1VnI"
      }
    },
    {
      "cell_type": "code",
      "source": [
        "!streamlit run app.py &>/content/logs.txt &"
      ],
      "metadata": {
        "id": "cRC_OBlV1Fe8"
      },
      "execution_count": 4,
      "outputs": []
    },
    {
      "cell_type": "markdown",
      "source": [
        "Expose the Streamlit app on port 8501"
      ],
      "metadata": {
        "id": "LaunU6BF1Hxt"
      }
    },
    {
      "cell_type": "code",
      "source": [
        "!npx localtunnel --port 8501"
      ],
      "metadata": {
        "id": "7RhfyDs01RlU"
      },
      "execution_count": null,
      "outputs": []
    }
  ]
}